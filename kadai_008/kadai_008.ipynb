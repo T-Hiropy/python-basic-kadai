{
  "nbformat": 4,
  "nbformat_minor": 0,
  "metadata": {
    "colab": {
      "provenance": []
    },
    "kernelspec": {
      "name": "python3",
      "display_name": "Python 3"
    },
    "language_info": {
      "name": "python"
    }
  },
  "cells": [
    {
      "cell_type": "code",
      "execution_count": 26,
      "metadata": {
        "colab": {
          "base_uri": "https://localhost:8080/"
        },
        "id": "sz7RPtnc4cAf",
        "outputId": "c269a13d-97a2-41f2-daac-cd2d8b180897"
      },
      "outputs": [
        {
          "output_type": "stream",
          "name": "stdout",
          "text": [
            "Fizz\n"
          ]
        }
      ],
      "source": [
        "#変数varの生成\n",
        "import random\n",
        "\n",
        "var = random.randint(1,100)\n",
        "#print(var)\n",
        "\n",
        "#3の倍数かつ5の倍数?\n",
        "if var%3 == 0 and var%5 == 0:\n",
        "  print(\"FizzBuzz\")\n",
        "elif var%3 == 0:\n",
        "  print(\"Fizz\")\n",
        "elif var%5 ==0:\n",
        "  print(\"buzz\")\n",
        "else:\n",
        "  print(var)\n"
      ]
    }
  ]
}